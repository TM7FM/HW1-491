{
 "cells": [
  {
   "cell_type": "code",
   "execution_count": 1,
   "id": "b9b2ffe5",
   "metadata": {
    "scrolled": true
   },
   "outputs": [
    {
     "name": "stdout",
     "output_type": "stream",
     "text": [
      "Requirement already satisfied: pyswarms in c:\\users\\administrator\\anaconda3\\lib\\site-packages (1.3.0)\n",
      "Requirement already satisfied: scipy in c:\\users\\administrator\\anaconda3\\lib\\site-packages (from pyswarms) (1.11.1)\n",
      "Requirement already satisfied: numpy in c:\\users\\administrator\\anaconda3\\lib\\site-packages (from pyswarms) (1.24.3)\n",
      "Requirement already satisfied: matplotlib>=1.3.1 in c:\\users\\administrator\\anaconda3\\lib\\site-packages (from pyswarms) (3.7.2)\n",
      "Requirement already satisfied: attrs in c:\\users\\administrator\\anaconda3\\lib\\site-packages (from pyswarms) (22.1.0)\n",
      "Requirement already satisfied: tqdm in c:\\users\\administrator\\anaconda3\\lib\\site-packages (from pyswarms) (4.65.0)\n",
      "Requirement already satisfied: future in c:\\users\\administrator\\anaconda3\\lib\\site-packages (from pyswarms) (0.18.3)\n",
      "Requirement already satisfied: pyyaml in c:\\users\\administrator\\anaconda3\\lib\\site-packages (from pyswarms) (6.0)\n",
      "Requirement already satisfied: contourpy>=1.0.1 in c:\\users\\administrator\\anaconda3\\lib\\site-packages (from matplotlib>=1.3.1->pyswarms) (1.0.5)\n",
      "Requirement already satisfied: cycler>=0.10 in c:\\users\\administrator\\anaconda3\\lib\\site-packages (from matplotlib>=1.3.1->pyswarms) (0.11.0)\n",
      "Requirement already satisfied: fonttools>=4.22.0 in c:\\users\\administrator\\anaconda3\\lib\\site-packages (from matplotlib>=1.3.1->pyswarms) (4.25.0)\n",
      "Requirement already satisfied: kiwisolver>=1.0.1 in c:\\users\\administrator\\anaconda3\\lib\\site-packages (from matplotlib>=1.3.1->pyswarms) (1.4.4)\n",
      "Requirement already satisfied: packaging>=20.0 in c:\\users\\administrator\\anaconda3\\lib\\site-packages (from matplotlib>=1.3.1->pyswarms) (23.1)\n",
      "Requirement already satisfied: pillow>=6.2.0 in c:\\users\\administrator\\anaconda3\\lib\\site-packages (from matplotlib>=1.3.1->pyswarms) (9.4.0)\n",
      "Requirement already satisfied: pyparsing<3.1,>=2.3.1 in c:\\users\\administrator\\anaconda3\\lib\\site-packages (from matplotlib>=1.3.1->pyswarms) (3.0.9)\n",
      "Requirement already satisfied: python-dateutil>=2.7 in c:\\users\\administrator\\anaconda3\\lib\\site-packages (from matplotlib>=1.3.1->pyswarms) (2.8.2)\n",
      "Requirement already satisfied: colorama in c:\\users\\administrator\\anaconda3\\lib\\site-packages (from tqdm->pyswarms) (0.4.6)\n",
      "Requirement already satisfied: six>=1.5 in c:\\users\\administrator\\anaconda3\\lib\\site-packages (from python-dateutil>=2.7->matplotlib>=1.3.1->pyswarms) (1.16.0)\n"
     ]
    }
   ],
   "source": [
    "!pip install pyswarms"
   ]
  },
  {
   "cell_type": "code",
   "execution_count": 2,
   "id": "7329fa5c",
   "metadata": {
    "scrolled": true
   },
   "outputs": [
    {
     "name": "stderr",
     "output_type": "stream",
     "text": [
      "2025-04-20 02:21:50,978 - pyswarms.single.global_best - INFO - Optimize for 100 iters with {'c1': 1.5, 'c2': 1.5, 'w': 0.7}\n",
      "pyswarms.single.global_best: 100%|██████████████████████████████████████████████████████████|100/100, best_cost=1.26e+3\n",
      "2025-04-20 02:21:51,394 - pyswarms.single.global_best - INFO - Optimization finished | best cost: 1261.0758211891557, best pos: [0.64832637 0.26620035 5.15282198 0.52879507 1.29570581 3.25547027\n",
      " 2.60895434 0.43928473 0.05478751 2.81927902 0.32383964 7.1300807\n",
      " 1.52820511 3.0868976  2.18265739]\n"
     ]
    },
    {
     "name": "stdout",
     "output_type": "stream",
     "text": [
      "Best cost: 1261.0758211891557\n",
      "Best schedule: [0.64832637 0.26620035 5.15282198 0.52879507 1.29570581 3.25547027\n",
      " 2.60895434 0.43928473 0.05478751 2.81927902 0.32383964 7.1300807\n",
      " 1.52820511 3.0868976  2.18265739]\n"
     ]
    }
   ],
   "source": [
    "import numpy as np\n",
    "\n",
    "def objective(x):\n",
    "    c = np.array([30, 35, 40, 45, 50])\n",
    "    co = 1.5 * c\n",
    "    cp = np.array([25, 27, 29, 31, 33])\n",
    "    \n",
    "    total_cost = (\n",
    "        np.dot(x[:, 0:5], c) +\n",
    "        np.dot(x[:, 5:10], co) +\n",
    "        np.dot(x[:, 10:15], cp)\n",
    "    )\n",
    "    return total_cost\n",
    "def constrained_objective(x):\n",
    "    c = np.array([30, 35, 40, 45, 50])\n",
    "    co = 1.5 * c\n",
    "    cp = np.array([25, 27, 29, 31, 33])\n",
    "\n",
    "    cost = (\n",
    "        np.dot(x[:, 0:5], c) +\n",
    "        np.dot(x[:, 5:10], co) +\n",
    "        np.dot(x[:, 10:15], cp)\n",
    "    )\n",
    "\n",
    "    penalty = 0\n",
    "    for row in x:\n",
    "        peak_sum = np.sum(row[0:5]) + np.sum(row[5:10])\n",
    "        non_peak_sum = np.sum(row[10:15])\n",
    "        if peak_sum < 4:\n",
    "            penalty += 1e6 * (4 - peak_sum)\n",
    "        if non_peak_sum < 2:\n",
    "            penalty += 1e6 * (2 - non_peak_sum)\n",
    "    return cost + penalty\n",
    "from pyswarms.single import GlobalBestPSO\n",
    "\n",
    "# bounds: 0 to 8 working hours\n",
    "bounds = (np.zeros(15), np.ones(15) * 8)\n",
    "\n",
    "optimizer = GlobalBestPSO(n_particles=30, dimensions=15, options={'c1': 1.5, 'c2': 1.5, 'w': 0.7}, bounds=bounds)\n",
    "best_cost, best_pos = optimizer.optimize(constrained_objective, iters=100)\n",
    "\n",
    "print(\"Best cost:\", best_cost)\n",
    "print(\"Best schedule:\", best_pos)\n"
   ]
  }
 ],
 "metadata": {
  "kernelspec": {
   "display_name": "Python 3 (ipykernel)",
   "language": "python",
   "name": "python3"
  },
  "language_info": {
   "codemirror_mode": {
    "name": "ipython",
    "version": 3
   },
   "file_extension": ".py",
   "mimetype": "text/x-python",
   "name": "python",
   "nbconvert_exporter": "python",
   "pygments_lexer": "ipython3",
   "version": "3.11.5"
  }
 },
 "nbformat": 4,
 "nbformat_minor": 5
}
